{
 "cells": [
  {
   "cell_type": "code",
   "execution_count": null,
   "metadata": {},
   "outputs": [],
   "source": [
    "import pandas as pd\n",
    "import string\n",
    "import re\n",
    "import time\n",
    "\n",
    "filename = '../data/Bundesregierung.csv'\n",
    "\n",
    "start_time = time.time()\n",
    "df = pd.read_csv(filename)\n",
    "print(len(df), 'speeches imported')\n",
    "print(\"--- took %d:%.2d minutes ---\" % divmod(time.time() - start_time, 60))\n",
    "\n",
    "df.head()"
   ]
  },
  {
   "cell_type": "markdown",
   "metadata": {},
   "source": [
    "## Data Preparation\n",
    "\n",
    "* tokenize (split words, n-grams)\n",
    "* convert to lower case\n",
    "* remove punctuation (handle abbreviations, split sentences)\n",
    "* lemmatize\n",
    "\n",
    "inspired by\n",
    "* gensim tutorial\n",
    "* ...\n"
   ]
  },
  {
   "cell_type": "code",
   "execution_count": null,
   "metadata": {},
   "outputs": [],
   "source": [
    "df['text'].iloc[0][0:500]"
   ]
  },
  {
   "cell_type": "code",
   "execution_count": null,
   "metadata": {},
   "outputs": [],
   "source": [
    "# define stop words\n",
    "stoplist = 'und oder man'.split()\n",
    "\n",
    "# define punctuation to be removed\n",
    "trans = str.maketrans({key:None for key in string.punctuation})\n",
    "\n",
    "def tokenize(text):\n",
    "    \"\"\"Tokenize a text and return a list of cleaned tokens.\"\"\"\n",
    "    return [word.translate(trans) for word in text.lower().split() if word not in stoplist]"
   ]
  },
  {
   "cell_type": "code",
   "execution_count": null,
   "metadata": {},
   "outputs": [],
   "source": [
    "# show intermediate result\n",
    "print(tokenize(df['text'].iloc[0])[0:200])"
   ]
  },
  {
   "cell_type": "markdown",
   "metadata": {},
   "source": [
    "### Remove Infrequent Tokens (Single Occurrence)"
   ]
  },
  {
   "cell_type": "code",
   "execution_count": null,
   "metadata": {},
   "outputs": [],
   "source": [
    "from collections import defaultdict\n",
    "\n",
    "# store token frequency counts in dictionary\n",
    "frequency = defaultdict(int)\n",
    "\n",
    "start_time = time.time()\n",
    "for doc in df['text']:\n",
    "    for token in tokenize(doc):\n",
    "        frequency[token] += 1\n",
    "print(\"--- took %d:%.2d minutes ---\" % divmod(time.time() - start_time, 60))\n",
    "\n",
    "once = len([v for v in frequency.values() if v > 1])\n",
    "print(len(frequency), \"words in dictionary\")\n",
    "print(once, \"words with one occurrence\")\n",
    "print(len(frequency)-once, \"words with multiple occurrence\")"
   ]
  },
  {
   "cell_type": "code",
   "execution_count": null,
   "metadata": {},
   "outputs": [],
   "source": [
    "start_time = time.time()\n",
    "texts = [[token for token in tokenize(doc) if frequency[token] > 1] for doc in df['text']]\n",
    "print(\"--- took %d:%.2d minutes ---\" % divmod(time.time() - start_time, 60))"
   ]
  },
  {
   "cell_type": "code",
   "execution_count": null,
   "metadata": {},
   "outputs": [],
   "source": [
    "len(texts)"
   ]
  },
  {
   "cell_type": "code",
   "execution_count": null,
   "metadata": {},
   "outputs": [],
   "source": [
    "# show final results\n",
    "print(texts[0][0:200])"
   ]
  }
 ],
 "metadata": {
  "kernelspec": {
   "display_name": "Python 3",
   "language": "python",
   "name": "python3"
  },
  "language_info": {
   "codemirror_mode": {
    "name": "ipython",
    "version": 3
   },
   "file_extension": ".py",
   "mimetype": "text/x-python",
   "name": "python",
   "nbconvert_exporter": "python",
   "pygments_lexer": "ipython3",
   "version": "3.6.7"
  }
 },
 "nbformat": 4,
 "nbformat_minor": 2
}
