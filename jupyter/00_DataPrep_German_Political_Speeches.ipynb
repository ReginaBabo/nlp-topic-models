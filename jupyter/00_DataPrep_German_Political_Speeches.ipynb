{
 "cells": [
  {
   "cell_type": "markdown",
   "metadata": {},
   "source": [
    "# German Political Speeches\n",
    "\n",
    "Text Corpus from http://purl.org/corpus/german-speeches\n",
    "\n",
    "Barbaresi, Adrien (2018). \"A corpus of German political speeches from the 21st century\"."
   ]
  },
  {
   "cell_type": "code",
   "execution_count": null,
   "metadata": {},
   "outputs": [],
   "source": [
    "import urllib\n",
    "\n",
    "url = \"http://adrien.barbaresi.eu/corpora/speeches/German-political-speeches-LREC2018-legacy-release.zip\"\n",
    "filename = url.rsplit('/', 1)[-1]\n",
    "datadir = '../data/'"
   ]
  },
  {
   "cell_type": "markdown",
   "metadata": {},
   "source": [
    "## 1. Download Dataset"
   ]
  },
  {
   "cell_type": "code",
   "execution_count": null,
   "metadata": {},
   "outputs": [],
   "source": [
    "urllib.request.urlretrieve(url, datadir + filename)"
   ]
  },
  {
   "cell_type": "markdown",
   "metadata": {},
   "source": [
    "## 2. Extract and Convert XML documents"
   ]
  },
  {
   "cell_type": "code",
   "execution_count": null,
   "metadata": {},
   "outputs": [],
   "source": [
    "from zipfile import ZipFile\n",
    "import xml.etree.ElementTree\n",
    "import pandas as pd\n",
    "import re, html\n",
    "\n",
    "def clean_str(str):\n",
    "    return(html.unescape(re.sub(r\"[\\r\\n]\", \" \", str.strip())))\n",
    "\n",
    "def xml2csv(xmlfile, csvfile):\n",
    "    root = xml.etree.ElementTree.parse(xmlfile).getroot()\n",
    "    df = pd.DataFrame(([text.get('datum'),\n",
    "                        text.get('person'),\n",
    "                        clean_str(text.find('rohtext').text)] for text in root.iter('text')),\n",
    "                      columns=('date', 'speaker', 'text'))\n",
    "    df.to_csv(csvfile, index=False)\n",
    "\n",
    "with ZipFile(datadir + filename, 'r') as zf:\n",
    "    for info in zf.infolist():\n",
    "        if (info.filename.endswith('.xml')):\n",
    "            print('extracting', info.filename)\n",
    "            with zf.open(info) as xmlfile:\n",
    "                xml2csv(xmlfile, datadir + info.filename.replace('.xml','.csv'))        "
   ]
  }
 ],
 "metadata": {
  "kernelspec": {
   "display_name": "Python 3",
   "language": "python",
   "name": "python3"
  },
  "language_info": {
   "codemirror_mode": {
    "name": "ipython",
    "version": 3
   },
   "file_extension": ".py",
   "mimetype": "text/x-python",
   "name": "python",
   "nbconvert_exporter": "python",
   "pygments_lexer": "ipython3",
   "version": "3.6.7"
  }
 },
 "nbformat": 4,
 "nbformat_minor": 2
}
