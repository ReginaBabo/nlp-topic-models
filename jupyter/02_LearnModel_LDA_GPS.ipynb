{
 "cells": [
  {
   "cell_type": "markdown",
   "metadata": {},
   "source": [
    "## Prerequisites"
   ]
  },
  {
   "cell_type": "code",
   "execution_count": null,
   "metadata": {},
   "outputs": [],
   "source": [
    "import pandas as pd\n",
    "import string\n",
    "import os\n",
    "import time\n",
    "\n",
    "# input files\n",
    "corpus_dir      = '../corpus/'\n",
    "dict_filename   = corpus_dir + 'gps.dict'\n",
    "corpus_filename = corpus_dir + 'gps_bow.mm'\n",
    "\n",
    "# output files\n",
    "model_dir       = '../model/'\n",
    "model_filename  = '{}_topics_model.lda'\n",
    "\n",
    "# ensure directories exist\n",
    "if not os.path.exists(model_dir):\n",
    "    os.makedirs(model_dir)"
   ]
  },
  {
   "cell_type": "markdown",
   "metadata": {},
   "source": [
    "## Load Dictionary and Corpus"
   ]
  },
  {
   "cell_type": "code",
   "execution_count": null,
   "metadata": {},
   "outputs": [],
   "source": [
    "from gensim import corpora, models\n",
    "\n",
    "dictionary = corpora.Dictionary.load(dict_filename)\n",
    "print(dictionary)\n",
    "\n",
    "corpus_bow = corpora.MmCorpus(corpus_filename)\n",
    "\n",
    "print(corpus_bow)"
   ]
  },
  {
   "cell_type": "markdown",
   "metadata": {},
   "source": [
    "## Create Model"
   ]
  },
  {
   "cell_type": "code",
   "execution_count": null,
   "metadata": {},
   "outputs": [],
   "source": [
    "num_topics = 50\n",
    "\n",
    "start_time = time.time()\n",
    "model_lda = models.LdaModel(corpus_bow, id2word=dictionary, num_topics=num_topics)\n",
    "print(\"--- took %d:%.2d minutes ---\" % divmod(time.time() - start_time, 60))\n",
    "\n",
    "print(model_lda)"
   ]
  },
  {
   "cell_type": "code",
   "execution_count": null,
   "metadata": {},
   "outputs": [],
   "source": [
    "model_lda.print_topics(20)"
   ]
  },
  {
   "cell_type": "markdown",
   "metadata": {},
   "source": [
    "## Save Model"
   ]
  },
  {
   "cell_type": "code",
   "execution_count": null,
   "metadata": {},
   "outputs": [],
   "source": [
    "filename = model_dir + model_filename.format(num_topics)\n",
    "\n",
    "model_lda.save(filename)"
   ]
  }
 ],
 "metadata": {
  "kernelspec": {
   "display_name": "Python 3",
   "language": "python",
   "name": "python3"
  },
  "language_info": {
   "codemirror_mode": {
    "name": "ipython",
    "version": 3
   },
   "file_extension": ".py",
   "mimetype": "text/x-python",
   "name": "python",
   "nbconvert_exporter": "python",
   "pygments_lexer": "ipython3",
   "version": "3.6.7"
  }
 },
 "nbformat": 4,
 "nbformat_minor": 2
}
